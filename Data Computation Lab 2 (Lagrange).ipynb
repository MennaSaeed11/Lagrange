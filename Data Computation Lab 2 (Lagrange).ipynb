{
 "cells": [
  {
   "cell_type": "markdown",
   "metadata": {},
   "source": [
    "### Libraries"
   ]
  },
  {
   "cell_type": "code",
   "execution_count": 3,
   "metadata": {},
   "outputs": [],
   "source": [
    "import numpy as np\n",
    "import sympy as sp"
   ]
  },
  {
   "cell_type": "markdown",
   "metadata": {},
   "source": [
    "### Lagrange approach for equality constraints optimization problem in one variable `x`"
   ]
  },
  {
   "cell_type": "code",
   "execution_count": 2,
   "metadata": {},
   "outputs": [],
   "source": [
    "def lagrange_opt(of, c):\n",
    "    \"\"\"\n",
    "    Implements Lagrange multiplier for equality constraint optimization problem in one variable `x`.\n",
    "\n",
    "    Parameters:\n",
    "        of (string): Objective function.\n",
    "        c (list): Constraints.\n",
    "\n",
    "    Returns:\n",
    "        optimal (int): Optimal solution (x).\n",
    "    \"\"\"\n",
    "    # Define the objective function\n",
    "    f = sp.sympify(of)\n",
    "\n",
    "    # Define the list of constraints\n",
    "    constraints = []\n",
    "    for constraint in c:\n",
    "        eq = constraint.split('=')\n",
    "        constraints.append(sp.sympify(eq[0]) - sp.sympify(eq[1]))\n",
    "\n",
    "    # Define Lagrange multipliers\n",
    "    lagrange_multipliers = [sp.symbols(f'lambda{i}') for i in range(len(constraints))]\n",
    "\n",
    "    # Define the Lagrangian function\n",
    "    lagrangian = f + sum([lam * constraint for lam, constraint in zip(lagrange_multipliers, constraints)])\n",
    "    \n",
    "    variables = [sp.symbols('x')] + lagrange_multipliers\n",
    "\n",
    "    # Compute gradients w.r.t. the variables\n",
    "    gradients = [sp.diff(lagrangian, var) for var in variables]\n",
    "\n",
    "    # Solve the system of equations\n",
    "    solution = sp.solve(gradients, variables)\n",
    "    \n",
    "    # Extract x values from solutions\n",
    "    points = [point[0] for point in solution]\n",
    "    \n",
    "    # Substitute with the points in the objective function\n",
    "    subs = [f.subs({sp.symbols('x'): point}) for point in points]\n",
    "    \n",
    "    # Get the point which minimizes the function\n",
    "    i = subs.index(min(subs))\n",
    "    optimal = points[i]\n",
    "\n",
    "    return optimal"
   ]
  },
  {
   "cell_type": "markdown",
   "metadata": {},
   "source": [
    "#### Example  "
   ]
  },
  {
   "cell_type": "code",
   "execution_count": 3,
   "metadata": {},
   "outputs": [
    {
     "name": "stdout",
     "output_type": "stream",
     "text": [
      "Optimal solution: -2\n"
     ]
    }
   ],
   "source": [
    "objective_function = 'x**2 + 3*x + 5'\n",
    "constraints = ['x**2 - 4 = 0']\n",
    "solution = lagrange_opt(objective_function, constraints)\n",
    "print(\"Optimal solution:\", solution)"
   ]
  },
  {
   "cell_type": "markdown",
   "metadata": {},
   "source": [
    "### Lagrange approach for equality constraints optimization problem in two variables `x` and `y`"
   ]
  },
  {
   "cell_type": "code",
   "execution_count": 4,
   "metadata": {},
   "outputs": [],
   "source": [
    "def lagrange_opt_xy(of, c, maximize=False):\n",
    "    \"\"\"\n",
    "    Implements Lagrange multiplier for equality constraint optimization problem in two variable `x` and `y`.\n",
    "\n",
    "    Parameters:\n",
    "        of (string): Objective function.\n",
    "        c (list): Constraints.\n",
    "        maximize (boolean): default value is False.\n",
    "\n",
    "    Returns:\n",
    "        optimal (tuple): Optimal solution (x,y).\n",
    "    \"\"\"\n",
    "    # Define the objective function\n",
    "    f = sp.sympify(of)\n",
    "\n",
    "    # Define the list of constraints\n",
    "    constraints = []\n",
    "    for constraint in c:\n",
    "        eq = constraint.split('=')\n",
    "        constraints.append(sp.sympify(eq[0]) - sp.sympify(eq[1]))\n",
    "\n",
    "    # Define Lagrange multipliers\n",
    "    lagrange_multipliers = [sp.symbols(f'lambda{i}') for i in range(len(constraints))]\n",
    "\n",
    "    # Define the Lagrangian function\n",
    "    lagrangian = f + sum([lam * constraint for lam, constraint in zip(lagrange_multipliers, constraints)])\n",
    "    \n",
    "    variables = [sp.symbols('x'),sp.symbols('y')] + lagrange_multipliers\n",
    "\n",
    "    # Compute gradients w.r.t. the variables\n",
    "    gradients = [sp.diff(lagrangian, var) for var in variables]\n",
    "\n",
    "    # Solve the system of equations\n",
    "    solution = sp.solve(gradients, variables)\n",
    "    \n",
    "    # Extract x,y values from solutions\n",
    "    points = [(point[0],point[1]) for point in solution] \n",
    "    \n",
    "    # Substitute with the points in the objective function\n",
    "    subs = [f.subs({sp.symbols('x'): point[0], sp.symbols('y'): point[1]}) for point in points]\n",
    "    \n",
    "    # Get the point which minimizes/maximizes the function\n",
    "    if maximize:\n",
    "        optimal = points[np.argmax(subs)]\n",
    "    else:\n",
    "        optimal = points[np.argmin(subs)]    \n",
    "\n",
    "    return optimal"
   ]
  },
  {
   "cell_type": "code",
   "execution_count": 5,
   "metadata": {},
   "outputs": [
    {
     "data": {
      "text/latex": [
       "$\\displaystyle 2 x^{2} + 5$"
      ],
      "text/plain": [
       "2*x**2 + 5"
      ]
     },
     "execution_count": 5,
     "metadata": {},
     "output_type": "execute_result"
    }
   ],
   "source": [
    "of = \"2*x**2 +5\"\n",
    "f = sp.sympify(of)\n",
    "f"
   ]
  },
  {
   "cell_type": "markdown",
   "metadata": {},
   "source": [
    "#### Example 1 (slide 12 from lecture)"
   ]
  },
  {
   "cell_type": "code",
   "execution_count": 6,
   "metadata": {},
   "outputs": [
    {
     "name": "stdout",
     "output_type": "stream",
     "text": [
      "Optimal solution: (-2*sqrt(5)/5, -4*sqrt(5)/5)\n"
     ]
    }
   ],
   "source": [
    "objective_function = 'x + 2*y'\n",
    "constraints = ['x**2 + y**2 = 4']\n",
    "solution = lagrange_opt_xy(objective_function, constraints)\n",
    "print(\"Optimal solution:\", solution)"
   ]
  },
  {
   "cell_type": "markdown",
   "metadata": {},
   "source": [
    "#### Example 2 (slide 14 from lecture)"
   ]
  },
  {
   "cell_type": "code",
   "execution_count": 7,
   "metadata": {},
   "outputs": [
    {
     "name": "stdout",
     "output_type": "stream",
     "text": [
      "Optimal solution: (-sqrt(6)/3, sqrt(3)/3)\n"
     ]
    }
   ],
   "source": [
    "objective_function = 'x^2 * y'\n",
    "constraints = ['x**2 + y**2 = 1']\n",
    "solution = lagrange_opt_xy(objective_function, constraints, maximize=True)\n",
    "print(\"Optimal solution:\", solution)"
   ]
  },
  {
   "cell_type": "markdown",
   "metadata": {},
   "source": [
    "### Lagrange approach for inequality constraints optimization problem in two variables `x` and `y`"
   ]
  },
  {
   "cell_type": "code",
   "execution_count": 8,
   "metadata": {},
   "outputs": [],
   "source": [
    "def lagrange_opt_xy_ineq(of, c, maximize=False):\n",
    "    \"\"\"\n",
    "    Implements Lagrange multiplier for inequality constraint optimization problem.\n",
    "\n",
    "    Parameters:\n",
    "        of (string): Objective function.\n",
    "        c (list): Constraints in the form `h(x,y) <= 0 `.\n",
    "        maximize (boolean): default value is False.\n",
    "\n",
    "    Returns:\n",
    "        optimal (tuple): Optimal solution (x,y).\n",
    "    \"\"\"\n",
    "    # Define the objective function\n",
    "    f = sp.sympify(of)\n",
    "    \n",
    "    # Define the list of constraints\n",
    "    constraints = [sp.sympify(constraint) for constraint in c]\n",
    "\n",
    "    # Define Lagrange multipliers\n",
    "    lagrange_multipliers = [sp.symbols(f'lambda{i}') for i in range(len(constraints))]\n",
    "\n",
    "    # Define the Lagrangian function\n",
    "    lagrangian = f + sum([lam * constraint for lam, constraint in zip(lagrange_multipliers, constraints)])\n",
    "    \n",
    "    variables = [sp.symbols('x'),sp.symbols('y')]\n",
    "\n",
    "    # Compute gradients w.r.t. the variables\n",
    "    gradients = [sp.diff(lagrangian, var) for var in variables]\n",
    "    \n",
    "    eqs = gradients + [lam * constraint for lam, constraint in zip(lagrange_multipliers, constraints)]\n",
    "    varss = variables + lagrange_multipliers\n",
    "\n",
    "    # Solve the system of equations\n",
    "    solution = sp.solve(eqs, varss)\n",
    "        \n",
    "    # Remove the points that doesn't satisfy the lambda condition\n",
    "    points = []\n",
    "    if maximize:\n",
    "        for sol in solution:\n",
    "            if all(np.asarray(sol[2:]) <= 0):\n",
    "                points.append((sol[0],sol[1]))      \n",
    "    else: \n",
    "        for sol in solution:\n",
    "            if all(np.asarray(sol[2:]) >= 0):\n",
    "                points.append((sol[0],sol[1]))\n",
    "                \n",
    "    # Remove the points that doesn't satisfy the constraints\n",
    "    final_points = []\n",
    "    for point in points:\n",
    "        satisfies_constraints = True\n",
    "        for con in constraints:\n",
    "            # Substitute x and y in the constraint\n",
    "            substituted_con = con.subs({sp.symbols('x'): point[0], sp.symbols('y'): point[1]})\n",
    "            # Check if the constraint is <= 0\n",
    "            if substituted_con > 0:\n",
    "                satisfies_constraints = False\n",
    "                break  # Break the loop if any constraint is not satisfied\n",
    "        # If the point satisfies all constraints, add it to final_points\n",
    "        if satisfies_constraints:\n",
    "            final_points.append(point)\n",
    "\n",
    "    \n",
    "    # Substitute with the points in the objective function\n",
    "    subs = [f.subs({sp.symbols('x'): point[0], sp.symbols('y'): point[1]}) for point in final_points]\n",
    "    \n",
    "    # Get the point which minimizes the function\n",
    "    if maximize:\n",
    "        optimal = final_points[np.argmax(subs)]\n",
    "    else:\n",
    "        optimal = final_points[np.argmin(subs)]  \n",
    "\n",
    "    return optimal"
   ]
  },
  {
   "cell_type": "markdown",
   "metadata": {},
   "source": [
    "#### Example 1 (question 3 in the sheet)"
   ]
  },
  {
   "cell_type": "code",
   "execution_count": 9,
   "metadata": {},
   "outputs": [
    {
     "name": "stdout",
     "output_type": "stream",
     "text": [
      "Optimal solution: (1, 1)\n"
     ]
    }
   ],
   "source": [
    "objective_function = 'x * y'\n",
    "constraints = ['2 - x - y', 'x - y']\n",
    "solution = lagrange_opt_xy_ineq(objective_function, constraints)\n",
    "print(\"Optimal solution:\", solution)"
   ]
  },
  {
   "cell_type": "markdown",
   "metadata": {},
   "source": [
    "#### Example 2 (question 4 in the sheet)"
   ]
  },
  {
   "cell_type": "code",
   "execution_count": 10,
   "metadata": {},
   "outputs": [
    {
     "name": "stdout",
     "output_type": "stream",
     "text": [
      "Optimal solution: (3/2, 0)\n"
     ]
    }
   ],
   "source": [
    "objective_function = 'x^2 + y^2 + x*y - 3*x'\n",
    "constraints = ['-x', '-y']\n",
    "solution = lagrange_opt_xy_ineq(objective_function, constraints)\n",
    "print(\"Optimal solution:\", solution)"
   ]
  },
  {
   "cell_type": "markdown",
   "metadata": {},
   "source": [
    "### Assignment"
   ]
  },
  {
   "cell_type": "markdown",
   "metadata": {},
   "source": [
    "#### Implement the lagrange approach to solve optimization problems with mixed constraints (equality and inequality)\n",
    "- Edit the code above to fit your goal\n",
    "- Don't use other libararies, write the code from scratch \n",
    "- Use your code to solve questions 1 and 2 from the sheet\n",
    "- Deliverables: .py or .ipynb file + screenshots of the code and the output"
   ]
  },
  {
   "cell_type": "code",
   "execution_count": null,
   "metadata": {},
   "outputs": [],
   "source": []
  }
 ],
 "metadata": {
  "kernelspec": {
   "display_name": "Python 3 (ipykernel)",
   "language": "python",
   "name": "python3"
  },
  "language_info": {
   "codemirror_mode": {
    "name": "ipython",
    "version": 3
   },
   "file_extension": ".py",
   "mimetype": "text/x-python",
   "name": "python",
   "nbconvert_exporter": "python",
   "pygments_lexer": "ipython3",
   "version": "3.11.5"
  }
 },
 "nbformat": 4,
 "nbformat_minor": 4
}
