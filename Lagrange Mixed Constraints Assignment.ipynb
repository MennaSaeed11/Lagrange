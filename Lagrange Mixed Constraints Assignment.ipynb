{
 "cells": [
  {
   "cell_type": "markdown",
   "id": "ab2b25b1",
   "metadata": {},
   "source": [
    "## Libraires"
   ]
  },
  {
   "cell_type": "code",
   "execution_count": null,
   "id": "db6061fe",
   "metadata": {},
   "outputs": [],
   "source": [
    "import sympy as sp\n",
    "import numpy as np"
   ]
  },
  {
   "cell_type": "markdown",
   "id": "e6b9c454",
   "metadata": {},
   "source": [
    "## Main Function"
   ]
  },
  {
   "cell_type": "code",
   "execution_count": null,
   "id": "63ce4659-4d0b-4652-a595-35320af1833b",
   "metadata": {},
   "outputs": [],
   "source": [
    "def lagrange_opt_mixed(of, c_eq, c_ineq,maximize=False):\n",
    "    f = sp.sympify(of)\n",
    "\n",
    "    # Define the list of equality constraints\n",
    "    constraints_eq = [sp.sympify(constraint) for constraint in c_eq]\n",
    "\n",
    "    # Define the list of inequality constraints\n",
    "    constraints_ineq = [sp.sympify(constraint) for constraint in c_ineq]\n",
    "\n",
    "    # Define Lagrange multipliers for inequality constraints\n",
    "    lagrange_multipliers_ineq = [sp.symbols(f'lambda_ineq_{i}') for i in range(len(constraints_ineq))]\n",
    "\n",
    "    # Define Lagrange multipliers for equality constraints\n",
    "    lagrange_multipliers_eq = [sp.symbols(f'lambda_eq_{i}') for i in range(len(constraints_eq))]\n",
    "\n",
    "    # Define the Lagrangian function\n",
    "    lagrangian = f + sum([lam * constraint for lam, constraint in zip(lagrange_multipliers_ineq, constraints_ineq)]) + \\\n",
    "                     sum([lam * constraint for lam, constraint in zip(lagrange_multipliers_eq, constraints_eq)])\n",
    "\n",
    "    variables = [sp.symbols('x'), sp.symbols('y')]\n",
    "\n",
    "    # Compute gradients w.r.t. the variables\n",
    "    gradients = [sp.diff(lagrangian, var) for var in variables]\n",
    "\n",
    "    eqs_ineq = gradients + [lam * constraint for lam, constraint in zip(lagrange_multipliers_ineq, constraints_ineq)]\n",
    "\n",
    "    # Remove Lagrange multipliers from equality constraints\n",
    "    eqs_eq = [eq.subs({lam: 0 for lam in lagrange_multipliers_eq}) for eq in constraints_eq]\n",
    "    eqs = eqs_ineq + eqs_eq\n",
    "    varss = variables + lagrange_multipliers_ineq + lagrange_multipliers_eq\n",
    "    \n",
    "    # Solve the system of equations\n",
    "    solution = sp.solve(eqs, varss)\n",
    "    \n",
    "    # Remove the points that don't satisfy the lambda conditions for inequality constraints\n",
    "    points = []\n",
    "    for sol in solution:\n",
    "        if all(np.asarray(sol[len(variables):len(variables) + len(constraints_ineq)]) <= 0):\n",
    "            points.append((sol[0],sol[1]))      \n",
    "        else: \n",
    "            for sol in solution:\n",
    "                if all(np.asarray(sol[len(variables):len(variables) + len(constraints_ineq)]) >= 0):\n",
    "                    points.append((sol[0],sol[1]))\n",
    "\n",
    "    # Remove the points that don't satisfy the equality constraints\n",
    "    final_points = []\n",
    "    for point in points:\n",
    "        satisfies_eq_constraints = all(abs(con.subs({sp.symbols('x'): point[0], sp.symbols('y'): point[1]})) < 1e-9 for con in constraints_eq)\n",
    "        if satisfies_eq_constraints:\n",
    "            final_points.append(point)\n",
    "            \n",
    "    subs = [f.subs({sp.symbols('x'): point[0], sp.symbols('y'): point[1]}) for point in final_points]\n",
    "    \n",
    "    if maximize:\n",
    "        optimal = final_points[np.argmax(subs)]\n",
    "    else:\n",
    "        optimal = final_points[np.argmin(subs)]\n",
    "    \n",
    "    return optimal"
   ]
  },
  {
   "cell_type": "markdown",
   "id": "32f0c128",
   "metadata": {},
   "source": [
    "## Test Cases"
   ]
  },
  {
   "cell_type": "code",
   "execution_count": 2,
   "id": "3517a39a-bc7e-4784-84fd-e2d354bf6f31",
   "metadata": {},
   "outputs": [
    {
     "name": "stdout",
     "output_type": "stream",
     "text": [
      "Optimal solution: (1/3, -2/3)\n"
     ]
    }
   ],
   "source": [
    "# Test the function\n",
    "objective_function = 'x**2 - y**2'\n",
    "equality_constraints = ['x + 2*y + 1']\n",
    "inequality_constraints = ['x - y -3']\n",
    "solution = lagrange_opt_mixed(objective_function, equality_constraints, inequality_constraints)\n",
    "print(\"Optimal solution:\", solution)"
   ]
  },
  {
   "cell_type": "code",
   "execution_count": 3,
   "id": "8021a1e0-5fa3-4a64-add5-d1d5a953f157",
   "metadata": {},
   "outputs": [
    {
     "name": "stdout",
     "output_type": "stream",
     "text": [
      "Optimal solution: (1/2, 3/2)\n"
     ]
    }
   ],
   "source": [
    "# Test the function\n",
    "objective_function = '(x-1)**2 + y - 2'\n",
    "equality_constraints = ['y - x - 1']\n",
    "inequality_constraints = ['x + y - 2']\n",
    "solution = lagrange_opt_mixed(objective_function, equality_constraints, inequality_constraints)\n",
    "print(\"Optimal solution:\", solution)"
   ]
  },
  {
   "cell_type": "code",
   "execution_count": null,
   "id": "969406d0-b87d-49e6-967f-750c98e49654",
   "metadata": {},
   "outputs": [],
   "source": []
  }
 ],
 "metadata": {
  "kernelspec": {
   "display_name": "Python 3 (ipykernel)",
   "language": "python",
   "name": "python3"
  },
  "language_info": {
   "codemirror_mode": {
    "name": "ipython",
    "version": 3
   },
   "file_extension": ".py",
   "mimetype": "text/x-python",
   "name": "python",
   "nbconvert_exporter": "python",
   "pygments_lexer": "ipython3",
   "version": "3.11.5"
  }
 },
 "nbformat": 4,
 "nbformat_minor": 5
}
